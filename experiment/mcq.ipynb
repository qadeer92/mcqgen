{
 "cells": [
  {
   "cell_type": "code",
   "execution_count": 1,
   "metadata": {},
   "outputs": [],
   "source": [
    "import os\n",
    "import json\n",
    "import pandas as pd\n",
    "import traceback"
   ]
  },
  {
   "cell_type": "code",
   "execution_count": 3,
   "metadata": {},
   "outputs": [],
   "source": [
    "from langchain.chat_models import ChatOpenAI"
   ]
  },
  {
   "cell_type": "code",
   "execution_count": 52,
   "metadata": {},
   "outputs": [
    {
     "data": {
      "text/plain": [
       "True"
      ]
     },
     "execution_count": 52,
     "metadata": {},
     "output_type": "execute_result"
    }
   ],
   "source": [
    "from dotenv import load_dotenv\n",
    "load_dotenv()"
   ]
  },
  {
   "cell_type": "code",
   "execution_count": 6,
   "metadata": {},
   "outputs": [],
   "source": [
    "KEY=os.getenv(\"OPENAI_API_KEY\")"
   ]
  },
  {
   "cell_type": "code",
   "execution_count": 31,
   "metadata": {},
   "outputs": [],
   "source": [
    "llm=ChatOpenAI(openai_api_key=KEY, model_name=\"gpt-3.5-turbo\", temperature=0.5) "
   ]
  },
  {
   "cell_type": "code",
   "execution_count": 9,
   "metadata": {},
   "outputs": [],
   "source": [
    "from langchain.llms import OpenAI\n",
    "from langchain.prompts import PromptTemplate\n",
    "from langchain.chains import LLMChain\n",
    "from langchain.chains import SequentialChain\n",
    "from langchain.callbacks import get_openai_callback\n",
    "import PyPDF2"
   ]
  },
  {
   "cell_type": "code",
   "execution_count": 10,
   "metadata": {},
   "outputs": [],
   "source": [
    "RESPONSE_JSON = {\n",
    "    \"1\": {\n",
    "        \"mcq\": \"multiple choice question\",\n",
    "        \"options\": {\n",
    "            \"a\": \"choice here\",\n",
    "            \"b\": \"choice here\",\n",
    "            \"c\": \"choice here\",\n",
    "            \"d\": \"choice here\",\n",
    "        },\n",
    "        \"correct\": \"correct answer\",\n",
    "    },\n",
    "    \"2\": {\n",
    "        \"mcq\": \"multiple choice question\",\n",
    "        \"options\": {\n",
    "            \"a\": \"choice here\",\n",
    "            \"b\": \"choice here\",\n",
    "            \"c\": \"choice here\",\n",
    "            \"d\": \"choice here\",\n",
    "        },\n",
    "        \"correct\": \"correct answer\",\n",
    "    },\n",
    "    \"3\": {\n",
    "        \"mcq\": \"multiple choice question\",\n",
    "        \"options\": {\n",
    "            \"a\": \"choice here\",\n",
    "            \"b\": \"choice here\",\n",
    "            \"c\": \"choice here\",\n",
    "            \"d\": \"choice here\",\n",
    "        },\n",
    "        \"correct\": \"correct answer\",\n",
    "    },\n",
    "}"
   ]
  },
  {
   "cell_type": "code",
   "execution_count": 11,
   "metadata": {},
   "outputs": [],
   "source": [
    "TEMPLATE=\"\"\"\n",
    "Text:{text}\n",
    "You are an expert MCQ maker. Given the above text, it is your job to \\\n",
    "create a quiz  of {number} multiple choice questions for {subject} students in {tone} tone. \n",
    "Make sure the questions are not repeated and check all the questions to be conforming the text as well.\n",
    "Make sure to format your response like  RESPONSE_JSON below  and use it as a guide. \\\n",
    "Ensure to make {number} MCQs\n",
    "### RESPONSE_JSON\n",
    "{response_json}\n",
    "\n",
    "\"\"\""
   ]
  },
  {
   "cell_type": "code",
   "execution_count": 32,
   "metadata": {},
   "outputs": [],
   "source": [
    "quiz_generation_prompt = PromptTemplate(\n",
    "    input_variables=[\"text\", \"number\", \"subject\", \"tone\", \"response_json\"],\n",
    "    template=TEMPLATE\n",
    "    )"
   ]
  },
  {
   "cell_type": "code",
   "execution_count": 33,
   "metadata": {},
   "outputs": [],
   "source": [
    "quiz_chain=LLMChain(llm=llm, prompt=quiz_generation_prompt, output_key=\"quiz\", verbose=True)"
   ]
  },
  {
   "cell_type": "code",
   "execution_count": 34,
   "metadata": {},
   "outputs": [],
   "source": [
    "TEMPLATE2=\"\"\"\n",
    "You are an expert english grammarian and writer. Given a Multiple Choice Quiz for {subject} students.\\\n",
    "You need to evaluate the complexity of the question and give a complete analysis of the quiz. Only use at max 50 words for complexity analysis. \n",
    "if the quiz is not at per with the cognitive and analytical abilities of the students,\\\n",
    "update the quiz questions which needs to be changed and change the tone such that it perfectly fits the student abilities\n",
    "Quiz_MCQs:\n",
    "{quiz}\n",
    "\n",
    "Check from an expert English Writer of the above quiz:\n",
    "\"\"\""
   ]
  },
  {
   "cell_type": "code",
   "execution_count": 35,
   "metadata": {},
   "outputs": [],
   "source": [
    "quiz_evaluation_prompt=PromptTemplate(input_variables=[\"subject\", \"quiz\"], template=TEMPLATE)"
   ]
  },
  {
   "cell_type": "code",
   "execution_count": 36,
   "metadata": {},
   "outputs": [],
   "source": [
    "review_chain=LLMChain(llm=llm, prompt=quiz_evaluation_prompt, output_key=\"review\", verbose=True)"
   ]
  },
  {
   "cell_type": "code",
   "execution_count": 37,
   "metadata": {},
   "outputs": [],
   "source": [
    "generate_evaluate_chain=SequentialChain(chains=[quiz_chain, review_chain], input_variables=[\"text\", \"number\", \"subject\", \"tone\", \"response_json\"],\n",
    "                                        output_variables=[\"quiz\", \"review\"], verbose=True,)"
   ]
  },
  {
   "cell_type": "code",
   "execution_count": 51,
   "metadata": {},
   "outputs": [
    {
     "data": {
      "text/plain": [
       "'C:\\\\Data\\\\Soft Dev\\\\AI\\\\LLMs\\\\GenerativeAICourse\\\\Projects\\\\mcqgen\\\\data.txt'"
      ]
     },
     "execution_count": 51,
     "metadata": {},
     "output_type": "execute_result"
    }
   ],
   "source": [
    "file_path=r\"C:\\Data\\Soft Dev\\AI\\LLMs\\GenerativeAICourse\\Projects\\mcqgen\\data.txt\"\n",
    "file_path"
   ]
  },
  {
   "cell_type": "code",
   "execution_count": 39,
   "metadata": {},
   "outputs": [],
   "source": [
    "with open(file_path, 'r') as file:\n",
    "    TEXT = file.read()"
   ]
  },
  {
   "cell_type": "code",
   "execution_count": 40,
   "metadata": {},
   "outputs": [
    {
     "data": {
      "text/plain": [
       "'{\"1\": {\"mcq\": \"multiple choice question\", \"options\": {\"a\": \"choice here\", \"b\": \"choice here\", \"c\": \"choice here\", \"d\": \"choice here\"}, \"correct\": \"correct answer\"}, \"2\": {\"mcq\": \"multiple choice question\", \"options\": {\"a\": \"choice here\", \"b\": \"choice here\", \"c\": \"choice here\", \"d\": \"choice here\"}, \"correct\": \"correct answer\"}, \"3\": {\"mcq\": \"multiple choice question\", \"options\": {\"a\": \"choice here\", \"b\": \"choice here\", \"c\": \"choice here\", \"d\": \"choice here\"}, \"correct\": \"correct answer\"}}'"
      ]
     },
     "execution_count": 40,
     "metadata": {},
     "output_type": "execute_result"
    }
   ],
   "source": [
    "# Serialize the Python dictionary into a JSON-formatted string\n",
    "json.dumps(RESPONSE_JSON)"
   ]
  },
  {
   "cell_type": "code",
   "execution_count": 41,
   "metadata": {},
   "outputs": [],
   "source": [
    "NUMBER=5 \n",
    "SUBJECT=\"Generative AI\"\n",
    "TONE=\"simple\""
   ]
  },
  {
   "cell_type": "code",
   "execution_count": 42,
   "metadata": {},
   "outputs": [
    {
     "name": "stdout",
     "output_type": "stream",
     "text": [
      "\n",
      "\n",
      "\u001b[1m> Entering new SequentialChain chain...\u001b[0m\n",
      "\n",
      "\n",
      "\u001b[1m> Entering new LLMChain chain...\u001b[0m\n",
      "Prompt after formatting:\n",
      "\u001b[32;1m\u001b[1;3m\n",
      "Text:Artificial intelligence (AI) has the potential to vastly improve the metaverse by automating intelligent decision-making and creating highly customized user experiences. Web3, with its distributed network architecture, provides consumers with enhanced privacy and security when conducting financial transactions online [1], [2], [3]. In addition, the immutable data storage and transfer mechanisms made possible by blockchain technology guarantee data security and integrity. In the age of Web3, generative AI technologies like Chat Generative Pre-trained Transformer (ChatGPT) have the capacity to become productivity tools by addressing problems with digital assets and content productin and filling in essential gaps in Web3’s evolution [4]. Generative AI technologies are expected to accelerate the advent of the Web3 era by offering more reliable and convenient productivity tools for Web3 creators and contributors.\n",
      "\n",
      "With the advent of generative AI technologies, such as ChatGPT, there has been widespread attention in the industry towards its creativity and flexibility. The efficiency and quality of content production and dissemination may be greatly improved with the help of ChatGPT based on deep learning models, which can generate content in a wide variety of contexts and fulfill a wide range of needs. In addition to these benefits, ChatGPT can facilitate eliminating obstacles, enhancing human understanding and creativity, and generating priceless insights and innovations. ChatGPT can also use multi-modal AI technologies to analyze, interpret, and generate information in greater detail by leveraging different perceptual modes [5], [6], [7]. This will allow for real-time perception and response to content and provide flexible feedback, ultimately leading to the creation of more rich and diverse forms of content. Technologies such as virtual characters, speech synthesis, and image generation will be integrated into the reconstructed content production process.\n",
      "\n",
      "Technology advancements in AI for Generative Content (AIGC) have led to the emergence of critical technologies like ChatGPT as components of the metaverse engine layer, considerably easing the process of creating high-quality material in the metaverse [8]. Currently, the metaverse's content scale has not yet met user demands, and the cost of building metaverse spaces remains high, affordable only for a few companies. Moreover, virtual spaces created with substantial investments often lack excitement, openness, and refinement. Yet, the price of constructing metaverse environments can be drastically decreased if AI can assist creators in lowering the barriers, such as providing consistent scenes with basic descriptions [9], [10], [11]. Generative AI will elevate the quantity of content in the metaverse to a new level and drive the resurgence of industries such as virtual reality (VR) and augmented reality (AR). This is especially true in the age of AIGC, when it will be crucial for all platforms producing or planning to construct metaverse spaces to determine whether or not the metaverse can use the power of AI to first achieve richness of material, and so attract users even in the absence of users. In this paper, the technical key of generative AI and its application and potential in the metaverse are reviewed around the issue of technological breakthroughs in the metaverse. Moreover, the emerging technology ChatGPT based on generative AI is explored to lower the technical threshold for realizing creativity in the metaverse era.\n",
      "You are an expert MCQ maker. Given the above text, it is your job to create a quiz  of 5 multiple choice questions for Generative AI students in simple tone. \n",
      "Make sure the questions are not repeated and check all the questions to be conforming the text as well.\n",
      "Make sure to format your response like  RESPONSE_JSON below  and use it as a guide. Ensure to make 5 MCQs\n",
      "### RESPONSE_JSON\n",
      "{\"1\": {\"mcq\": \"multiple choice question\", \"options\": {\"a\": \"choice here\", \"b\": \"choice here\", \"c\": \"choice here\", \"d\": \"choice here\"}, \"correct\": \"correct answer\"}, \"2\": {\"mcq\": \"multiple choice question\", \"options\": {\"a\": \"choice here\", \"b\": \"choice here\", \"c\": \"choice here\", \"d\": \"choice here\"}, \"correct\": \"correct answer\"}, \"3\": {\"mcq\": \"multiple choice question\", \"options\": {\"a\": \"choice here\", \"b\": \"choice here\", \"c\": \"choice here\", \"d\": \"choice here\"}, \"correct\": \"correct answer\"}}\n",
      "\n",
      "\u001b[0m\n",
      "\n",
      "\u001b[1m> Finished chain.\u001b[0m\n",
      "\n",
      "\n",
      "\u001b[1m> Entering new LLMChain chain...\u001b[0m\n",
      "Prompt after formatting:\n",
      "\u001b[32;1m\u001b[1;3m\n",
      "Text:Artificial intelligence (AI) has the potential to vastly improve the metaverse by automating intelligent decision-making and creating highly customized user experiences. Web3, with its distributed network architecture, provides consumers with enhanced privacy and security when conducting financial transactions online [1], [2], [3]. In addition, the immutable data storage and transfer mechanisms made possible by blockchain technology guarantee data security and integrity. In the age of Web3, generative AI technologies like Chat Generative Pre-trained Transformer (ChatGPT) have the capacity to become productivity tools by addressing problems with digital assets and content productin and filling in essential gaps in Web3’s evolution [4]. Generative AI technologies are expected to accelerate the advent of the Web3 era by offering more reliable and convenient productivity tools for Web3 creators and contributors.\n",
      "\n",
      "With the advent of generative AI technologies, such as ChatGPT, there has been widespread attention in the industry towards its creativity and flexibility. The efficiency and quality of content production and dissemination may be greatly improved with the help of ChatGPT based on deep learning models, which can generate content in a wide variety of contexts and fulfill a wide range of needs. In addition to these benefits, ChatGPT can facilitate eliminating obstacles, enhancing human understanding and creativity, and generating priceless insights and innovations. ChatGPT can also use multi-modal AI technologies to analyze, interpret, and generate information in greater detail by leveraging different perceptual modes [5], [6], [7]. This will allow for real-time perception and response to content and provide flexible feedback, ultimately leading to the creation of more rich and diverse forms of content. Technologies such as virtual characters, speech synthesis, and image generation will be integrated into the reconstructed content production process.\n",
      "\n",
      "Technology advancements in AI for Generative Content (AIGC) have led to the emergence of critical technologies like ChatGPT as components of the metaverse engine layer, considerably easing the process of creating high-quality material in the metaverse [8]. Currently, the metaverse's content scale has not yet met user demands, and the cost of building metaverse spaces remains high, affordable only for a few companies. Moreover, virtual spaces created with substantial investments often lack excitement, openness, and refinement. Yet, the price of constructing metaverse environments can be drastically decreased if AI can assist creators in lowering the barriers, such as providing consistent scenes with basic descriptions [9], [10], [11]. Generative AI will elevate the quantity of content in the metaverse to a new level and drive the resurgence of industries such as virtual reality (VR) and augmented reality (AR). This is especially true in the age of AIGC, when it will be crucial for all platforms producing or planning to construct metaverse spaces to determine whether or not the metaverse can use the power of AI to first achieve richness of material, and so attract users even in the absence of users. In this paper, the technical key of generative AI and its application and potential in the metaverse are reviewed around the issue of technological breakthroughs in the metaverse. Moreover, the emerging technology ChatGPT based on generative AI is explored to lower the technical threshold for realizing creativity in the metaverse era.\n",
      "You are an expert MCQ maker. Given the above text, it is your job to create a quiz  of 5 multiple choice questions for Generative AI students in simple tone. \n",
      "Make sure the questions are not repeated and check all the questions to be conforming the text as well.\n",
      "Make sure to format your response like  RESPONSE_JSON below  and use it as a guide. Ensure to make 5 MCQs\n",
      "### RESPONSE_JSON\n",
      "{\"1\": {\"mcq\": \"multiple choice question\", \"options\": {\"a\": \"choice here\", \"b\": \"choice here\", \"c\": \"choice here\", \"d\": \"choice here\"}, \"correct\": \"correct answer\"}, \"2\": {\"mcq\": \"multiple choice question\", \"options\": {\"a\": \"choice here\", \"b\": \"choice here\", \"c\": \"choice here\", \"d\": \"choice here\"}, \"correct\": \"correct answer\"}, \"3\": {\"mcq\": \"multiple choice question\", \"options\": {\"a\": \"choice here\", \"b\": \"choice here\", \"c\": \"choice here\", \"d\": \"choice here\"}, \"correct\": \"correct answer\"}}\n",
      "\n",
      "\u001b[0m\n",
      "\n",
      "\u001b[1m> Finished chain.\u001b[0m\n",
      "\n",
      "\u001b[1m> Finished chain.\u001b[0m\n"
     ]
    }
   ],
   "source": [
    "#https://python.langchain.com/docs/modules/model_io/llms/token_usage_tracking\n",
    "\n",
    "#How to setup Token Usage Tracking in LangChain\n",
    "with get_openai_callback() as cb:\n",
    "    response=generate_evaluate_chain(\n",
    "        {\n",
    "            \"text\": TEXT,\n",
    "            \"number\": NUMBER,\n",
    "            \"subject\":SUBJECT,\n",
    "            \"tone\": TONE,\n",
    "            \"response_json\": json.dumps(RESPONSE_JSON)\n",
    "        }\n",
    "        )"
   ]
  },
  {
   "cell_type": "code",
   "execution_count": 43,
   "metadata": {},
   "outputs": [
    {
     "name": "stdout",
     "output_type": "stream",
     "text": [
      "Total Tokens:2656\n",
      "Prompt Tokens:1802\n",
      "Completion Tokens:854\n",
      "Total Cost:0.004411\n"
     ]
    }
   ],
   "source": [
    "print(f\"Total Tokens:{cb.total_tokens}\")\n",
    "print(f\"Prompt Tokens:{cb.prompt_tokens}\")\n",
    "print(f\"Completion Tokens:{cb.completion_tokens}\")\n",
    "print(f\"Total Cost:{cb.total_cost}\")"
   ]
  },
  {
   "cell_type": "code",
   "execution_count": 44,
   "metadata": {},
   "outputs": [],
   "source": [
    "quiz=response.get(\"quiz\")"
   ]
  },
  {
   "cell_type": "code",
   "execution_count": 45,
   "metadata": {},
   "outputs": [],
   "source": [
    "quiz=json.loads(quiz)"
   ]
  },
  {
   "cell_type": "code",
   "execution_count": 46,
   "metadata": {},
   "outputs": [],
   "source": [
    "quiz_table_data = []\n",
    "for key, value in quiz.items():\n",
    "    mcq = value[\"mcq\"]\n",
    "    options = \" | \".join(\n",
    "        [\n",
    "            f\"{option}: {option_value}\"\n",
    "            for option, option_value in value[\"options\"].items()\n",
    "            ]\n",
    "        )\n",
    "    correct = value[\"correct\"]\n",
    "    quiz_table_data.append({\"MCQ\": mcq, \"Choices\": options, \"Correct\": correct})"
   ]
  },
  {
   "cell_type": "code",
   "execution_count": 47,
   "metadata": {},
   "outputs": [
    {
     "data": {
      "text/plain": [
       "[{'MCQ': 'What technology is expected to accelerate the advent of the Web3 era?',\n",
       "  'Choices': 'a: Blockchain technology | b: Generative AI technologies | c: Virtual reality (VR) | d: Augmented reality (AR)',\n",
       "  'Correct': 'b'},\n",
       " {'MCQ': 'Which AI technology is mentioned as a component of the metaverse engine layer?',\n",
       "  'Choices': 'a: Artificial general intelligence (AGI) | b: Reinforcement learning | c: Chat Generative Pre-trained Transformer (ChatGPT) | d: Natural language processing (NLP)',\n",
       "  'Correct': 'c'},\n",
       " {'MCQ': 'What is one benefit of using ChatGPT in content production and dissemination?',\n",
       "  'Choices': 'a: Decreased data security | b: Limited creativity | c: Improved efficiency and quality | d: Reduced content variety',\n",
       "  'Correct': 'c'},\n",
       " {'MCQ': 'What is a key challenge in the current metaverse content scale?',\n",
       "  'Choices': 'a: High cost of building metaverse spaces | b: Lack of AI technology | c: Excessive content variety | d: Low user demand',\n",
       "  'Correct': 'a'},\n",
       " {'MCQ': 'How can generative AI technologies like ChatGPT help lower the technical threshold for creativity in the metaverse era?',\n",
       "  'Choices': 'a: By increasing the cost of content production | b: By providing consistent scenes with basic descriptions | c: By limiting content richness | d: By decreasing user engagement',\n",
       "  'Correct': 'b'}]"
      ]
     },
     "execution_count": 47,
     "metadata": {},
     "output_type": "execute_result"
    }
   ],
   "source": [
    "quiz_table_data"
   ]
  },
  {
   "cell_type": "code",
   "execution_count": 48,
   "metadata": {},
   "outputs": [],
   "source": [
    "quiz=pd.DataFrame(quiz_table_data)"
   ]
  },
  {
   "cell_type": "code",
   "execution_count": 49,
   "metadata": {},
   "outputs": [],
   "source": [
    "quiz.to_csv(\"genai.csv\",index=False)"
   ]
  },
  {
   "cell_type": "code",
   "execution_count": 1,
   "metadata": {},
   "outputs": [
    {
     "data": {
      "text/plain": [
       "'03_15_2024_01_01_31'"
      ]
     },
     "execution_count": 1,
     "metadata": {},
     "output_type": "execute_result"
    }
   ],
   "source": [
    "from datetime import datetime\n",
    "\n",
    "datetime.now().strftime('%m_%d_%Y_%H_%M_%S')"
   ]
  }
 ],
 "metadata": {
  "kernelspec": {
   "display_name": "Python 3",
   "language": "python",
   "name": "python3"
  },
  "language_info": {
   "codemirror_mode": {
    "name": "ipython",
    "version": 3
   },
   "file_extension": ".py",
   "mimetype": "text/x-python",
   "name": "python",
   "nbconvert_exporter": "python",
   "pygments_lexer": "ipython3",
   "version": "3.10.13"
  }
 },
 "nbformat": 4,
 "nbformat_minor": 2
}
